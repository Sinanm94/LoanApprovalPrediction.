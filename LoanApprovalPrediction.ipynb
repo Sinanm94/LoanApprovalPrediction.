{
 "cells": [
  {
   "cell_type": "markdown",
   "metadata": {},
   "source": [
    "DATA EXPLORATION"
   ]
  },
  {
   "cell_type": "code",
   "execution_count": null,
   "metadata": {},
   "outputs": [],
   "source": [
    "import matplotlib.pyplot as plt\n",
    "import pandas as pd"
   ]
  },
  {
   "cell_type": "code",
   "execution_count": null,
   "metadata": {},
   "outputs": [],
   "source": [
    "df = pd.read_csv(r'D:\\Project_Works\\Mannan\\loan_approval_dataset.csv')\n",
    "df.head(10)"
   ]
  },
  {
   "cell_type": "code",
   "execution_count": null,
   "metadata": {},
   "outputs": [],
   "source": [
    "df.info()"
   ]
  },
  {
   "cell_type": "code",
   "execution_count": null,
   "metadata": {},
   "outputs": [],
   "source": [
    "df.isnull().sum()"
   ]
  },
  {
   "cell_type": "code",
   "execution_count": null,
   "metadata": {},
   "outputs": [],
   "source": [
    "print(df.columns)"
   ]
  },
  {
   "cell_type": "code",
   "execution_count": null,
   "metadata": {},
   "outputs": [],
   "source": [
    "def delete_space(df):\n",
    "    df.columns = df.columns.str.lstrip()\n",
    "    return df"
   ]
  },
  {
   "cell_type": "code",
   "execution_count": null,
   "metadata": {},
   "outputs": [],
   "source": [
    "df = delete_space(df)\n",
    "df.columns"
   ]
  },
  {
   "cell_type": "code",
   "execution_count": null,
   "metadata": {},
   "outputs": [],
   "source": [
    "df['loan_status'].value_counts(normalize = True)"
   ]
  },
  {
   "cell_type": "code",
   "execution_count": null,
   "metadata": {},
   "outputs": [],
   "source": [
    "cor = df.corr(numeric_only = True)\n",
    "cor"
   ]
  },
  {
   "cell_type": "markdown",
   "metadata": {},
   "source": [
    "DATA VISUALISATION"
   ]
  },
  {
   "cell_type": "code",
   "execution_count": null,
   "metadata": {},
   "outputs": [],
   "source": [
    "import plotly.express as px\n",
    "fig = px.imshow(cor, text_auto = True)\n",
    "fig.update_layout(height = 800, width = 800)"
   ]
  },
  {
   "cell_type": "code",
   "execution_count": null,
   "metadata": {},
   "outputs": [],
   "source": [
    "import matplotlib.pyplot as plt\n",
    "\n",
    "loan_status_counts = df['loan_status'].value_counts()\n",
    "\n",
    "plt.figure(figsize=(8, 8))\n",
    "plt.pie(loan_status_counts, labels=loan_status_counts.index, autopct='%1.1f%%', startangle=140)\n",
    "\n",
    "plt.title('Loan Status Distribution')\n",
    "\n",
    "plt.show()"
   ]
  },
  {
   "cell_type": "code",
   "execution_count": null,
   "metadata": {},
   "outputs": [],
   "source": [
    "fig1 = px.bar(df.groupby('loan_status')['no_of_dependents'].sum().reset_index(), x = 'loan_status', y = 'no_of_dependents', color = 'loan_status')\n",
    "fig1.show()\n",
    "\n",
    "fig2 = px.bar(df.groupby('loan_status')['no_of_dependents'].mean().reset_index(), x = 'loan_status', y = 'no_of_dependents', color = 'loan_status')\n",
    "fig2.show()"
   ]
  },
  {
   "cell_type": "code",
   "execution_count": null,
   "metadata": {},
   "outputs": [],
   "source": [
    "df_cross_no_of_dependents = pd.crosstab(index = df['no_of_dependents'], columns = df['loan_status'])\n",
    "df_cross_no_of_dependents['total'] = df_cross_no_of_dependents[' Approved'] + df_cross_no_of_dependents[' Rejected']\n",
    "\n",
    "fig = px.line(df_cross_no_of_dependents, x = df_cross_no_of_dependents.index, y=[' Rejected',' Approved', 'total'])\n",
    "fig.show()"
   ]
  },
  {
   "cell_type": "code",
   "execution_count": null,
   "metadata": {},
   "outputs": [],
   "source": [
    "import matplotlib.pyplot as plt\n",
    "\n",
    "education_counts = df['education'].value_counts()\n",
    "\n",
    "plt.figure(figsize=(8, 8))\n",
    "plt.pie(education_counts, labels=education_counts.index, autopct='%1.1f%%', startangle=140)\n",
    "\n",
    "plt.title('Education Distribution')\n",
    "\n",
    "plt.show()\n"
   ]
  },
  {
   "cell_type": "code",
   "execution_count": null,
   "metadata": {},
   "outputs": [],
   "source": [
    "px.bar(df[['education','loan_status']].value_counts().reset_index(name = 'total'), x = 'loan_status', y ='total', color = 'education', barmode = 'group')"
   ]
  },
  {
   "cell_type": "code",
   "execution_count": null,
   "metadata": {},
   "outputs": [],
   "source": [
    "import matplotlib.pyplot as plt\n",
    "\n",
    "self_employed_counts = df['self_employed'].value_counts()\n",
    "\n",
    "plt.figure(figsize=(8, 8))\n",
    "plt.pie(self_employed_counts, labels=self_employed_counts.index, autopct='%1.1f%%', startangle=140)\n",
    "\n",
    "plt.title('Self-Employment Status Distribution')\n",
    "\n",
    "plt.show()\n"
   ]
  },
  {
   "cell_type": "code",
   "execution_count": null,
   "metadata": {},
   "outputs": [],
   "source": [
    "px.bar(df[['self_employed','loan_status']].value_counts().reset_index(name = 'total'), x = 'loan_status', y ='total', color = 'self_employed', barmode = 'group')"
   ]
  },
  {
   "cell_type": "code",
   "execution_count": null,
   "metadata": {},
   "outputs": [],
   "source": [
    "fig1 = px.bar(df.groupby('loan_status')['income_annum'].sum().reset_index(), x = 'loan_status', y = 'income_annum', color = 'loan_status')\n",
    "fig1.show()\n",
    "\n",
    "fig2 = px.bar(df.groupby('loan_status')['income_annum'].mean().reset_index(), x = 'loan_status', y = 'income_annum', color = 'loan_status')\n",
    "fig2.show()"
   ]
  },
  {
   "cell_type": "code",
   "execution_count": null,
   "metadata": {},
   "outputs": [],
   "source": [
    "px.histogram(df, x = 'loan_amount', color = 'loan_status')"
   ]
  },
  {
   "cell_type": "code",
   "execution_count": null,
   "metadata": {},
   "outputs": [],
   "source": [
    "px.box(df, x = 'loan_status', y = 'loan_term', color = 'loan_status')"
   ]
  },
  {
   "cell_type": "code",
   "execution_count": null,
   "metadata": {},
   "outputs": [],
   "source": [
    "df_cross_loan_term = pd.crosstab(index = df['loan_term'], columns = df['loan_status'])\n",
    "df_cross_loan_term['total'] = df_cross_loan_term[' Approved'] + df_cross_loan_term[' Rejected']\n",
    "\n",
    "fig = px.line(df_cross_loan_term, x = df_cross_loan_term.index, y=[' Rejected',' Approved', 'total'])\n",
    "fig.show()"
   ]
  },
  {
   "cell_type": "code",
   "execution_count": null,
   "metadata": {},
   "outputs": [],
   "source": [
    "px.scatter(df, x = 'loan_term', color = 'loan_status', y = 'loan_amount')"
   ]
  },
  {
   "cell_type": "code",
   "execution_count": null,
   "metadata": {},
   "outputs": [],
   "source": [
    "fig1 = px.bar(df.groupby('loan_status')['cibil_score'].sum().reset_index(), x = 'loan_status', y = 'cibil_score', color = 'loan_status')\n",
    "fig1.show()\n",
    "\n",
    "fig2 = px.bar(df.groupby('loan_status')['cibil_score'].mean().reset_index(), x = 'loan_status', y = 'cibil_score', color = 'loan_status')\n",
    "fig2.show()"
   ]
  },
  {
   "cell_type": "code",
   "execution_count": null,
   "metadata": {},
   "outputs": [],
   "source": [
    "px.scatter(df, x = 'cibil_score', y = 'loan_amount', color = 'loan_status')"
   ]
  },
  {
   "cell_type": "code",
   "execution_count": null,
   "metadata": {},
   "outputs": [],
   "source": [
    "fig1 = px.scatter(df, x = 'residential_assets_value', y = 'loan_amount', color = 'loan_status')\n",
    "fig1.show()\n",
    "\n",
    "fig2 = px.scatter(df, x = 'commercial_assets_value', y = 'loan_amount', color = 'loan_status')\n",
    "fig2.show()\n",
    "\n",
    "fig3 = px.scatter(df, x = 'luxury_assets_value', y = 'loan_amount', color = 'loan_status')\n",
    "fig3.show()\n",
    "\n",
    "fig4 = px.scatter(df, x = 'bank_asset_value', y = 'loan_amount', color = 'loan_status')\n",
    "fig4.show()\n",
    "\n",
    "fig5 = px.scatter(df, x = 'income_annum', y = 'loan_amount', color = 'loan_status')\n",
    "fig5.show()"
   ]
  },
  {
   "cell_type": "code",
   "execution_count": null,
   "metadata": {},
   "outputs": [],
   "source": [
    "fig1 = px.histogram(df, x = 'residential_assets_value', color = 'loan_status')\n",
    "fig1.show()\n",
    "\n",
    "fig2 = px.histogram(df, x = 'commercial_assets_value', color = 'loan_status')\n",
    "fig2.show()\n",
    "\n",
    "fig3 = px.histogram(df, x = 'luxury_assets_value', color = 'loan_status')\n",
    "fig3.show()\n",
    "\n",
    "fig4 = px.histogram(df, x = 'bank_asset_value', color = 'loan_status')\n",
    "fig4.show()\n",
    "\n",
    "fig5 = px.histogram(df, x = 'income_annum', color = 'loan_status')\n",
    "fig5.show()"
   ]
  },
  {
   "cell_type": "markdown",
   "metadata": {},
   "source": [
    "DATA PREPROCESSING"
   ]
  },
  {
   "cell_type": "code",
   "execution_count": null,
   "metadata": {},
   "outputs": [],
   "source": [
    "df = pd.get_dummies(df, columns=['education','self_employed'])"
   ]
  },
  {
   "cell_type": "code",
   "execution_count": null,
   "metadata": {},
   "outputs": [],
   "source": [
    "df.head()"
   ]
  },
  {
   "cell_type": "code",
   "execution_count": null,
   "metadata": {},
   "outputs": [],
   "source": [
    "df.info()"
   ]
  },
  {
   "cell_type": "code",
   "execution_count": null,
   "metadata": {},
   "outputs": [],
   "source": [
    "if 'loan_status' in df.columns:\n",
    "    X = df.drop('loan_status', axis=1)\n",
    "    y = df['loan_status']\n",
    "else:\n",
    "    print(\"'loan_status' column not found in the DataFrame.\")\n"
   ]
  },
  {
   "cell_type": "code",
   "execution_count": null,
   "metadata": {},
   "outputs": [],
   "source": [
    "df.head()"
   ]
  },
  {
   "cell_type": "code",
   "execution_count": null,
   "metadata": {},
   "outputs": [],
   "source": [
    "print(df.columns)"
   ]
  },
  {
   "cell_type": "code",
   "execution_count": null,
   "metadata": {},
   "outputs": [],
   "source": [
    "df.columns = df.columns.str.strip()"
   ]
  },
  {
   "cell_type": "markdown",
   "metadata": {},
   "source": [
    "DATA SPLITTING"
   ]
  },
  {
   "cell_type": "code",
   "execution_count": null,
   "metadata": {},
   "outputs": [],
   "source": [
    "from sklearn.model_selection import train_test_split\n",
    "\n",
    "X = df.drop('loan_status', axis=1)\n",
    "y = df['loan_status']\n",
    "X_train, X_test, y_train, y_test = train_test_split(X, y, test_size=0.2, random_state=42)"
   ]
  },
  {
   "cell_type": "markdown",
   "metadata": {},
   "source": [
    "CHOOSING & TRAINING MODEL"
   ]
  },
  {
   "cell_type": "markdown",
   "metadata": {},
   "source": [
    "Random Forest Approach"
   ]
  },
  {
   "cell_type": "code",
   "execution_count": null,
   "metadata": {},
   "outputs": [],
   "source": [
    "from sklearn.ensemble import RandomForestClassifier\n",
    "\n",
    "model = RandomForestClassifier(random_state=42)\n",
    "model.fit(X_train,y_train)\n",
    "y_pred = model.predict(X_test)"
   ]
  },
  {
   "cell_type": "markdown",
   "metadata": {},
   "source": [
    "MODEL EVALUATION"
   ]
  },
  {
   "cell_type": "code",
   "execution_count": null,
   "metadata": {},
   "outputs": [],
   "source": [
    "from sklearn.metrics import classification_report, accuracy_score, confusion_matrix\n",
    "\n",
    "accuracy = accuracy_score(y_test, y_pred)\n",
    "classification_rep = classification_report(y_test, y_pred)\n",
    "conf_mat = confusion_matrix(y_test, y_pred)\n",
    "\n",
    "print(f\"Accuracy: {accuracy * 100}\")\n",
    "print(\"classification Report:\\n\",classification_rep)\n",
    "print(\"Confussion Matrix\\n\", conf_mat)"
   ]
  },
  {
   "cell_type": "markdown",
   "metadata": {},
   "source": [
    "Decision Tree Approach"
   ]
  },
  {
   "cell_type": "code",
   "execution_count": null,
   "metadata": {},
   "outputs": [],
   "source": [
    "from sklearn.tree import DecisionTreeClassifier\n",
    "\n",
    "decision_tree_model = DecisionTreeClassifier(random_state=42)\n",
    "decision_tree_model.fit(X_train, y_train)\n",
    "y_pred_decision_tree = decision_tree_model.predict(X_test)"
   ]
  },
  {
   "cell_type": "markdown",
   "metadata": {},
   "source": [
    "MODEL EVALUATION"
   ]
  },
  {
   "cell_type": "code",
   "execution_count": null,
   "metadata": {},
   "outputs": [],
   "source": [
    "from sklearn.metrics import accuracy_score,classification_report,confusion_matrix\n",
    "\n",
    "accuracy_dtree = accuracy_score(y_test, y_pred_decision_tree)\n",
    "classification_rep_dtree = classification_report(y_test,y_pred_decision_tree)\n",
    "conf_mat_dtree = confusion_matrix(y_test,y_pred_decision_tree)\n",
    "\n",
    "print(\"Decision Tree model:\")\n",
    "print(f\"Accuracy : {accuracy_dtree * 100}\")\n",
    "print(\"classification Report:\",classification_rep_dtree)\n",
    "print(\"confusion Matrix\",conf_mat_dtree)"
   ]
  },
  {
   "cell_type": "markdown",
   "metadata": {},
   "source": [
    "Logistic Regression Approach"
   ]
  },
  {
   "cell_type": "code",
   "execution_count": null,
   "metadata": {},
   "outputs": [],
   "source": [
    "from sklearn.linear_model import LogisticRegression\n",
    "\n",
    "log_reg_model = LogisticRegression(random_state=42)\n",
    "log_reg_model.fit(X_train,y_train)\n",
    "y_pred_log_reg_model = log_reg_model.predict(X_test)"
   ]
  },
  {
   "cell_type": "markdown",
   "metadata": {},
   "source": [
    "MODEL EVALUATION"
   ]
  },
  {
   "cell_type": "code",
   "execution_count": null,
   "metadata": {},
   "outputs": [],
   "source": [
    "from sklearn.metrics import accuracy_score, confusion_matrix, classification_report\n",
    "\n",
    "accuracy_log_reg = accuracy_score(y_test,y_pred_log_reg_model)\n",
    "conf_mat_log_reg = confusion_matrix(y_test, y_pred_log_reg_model)\n",
    "classification_rep_log_reg = classification_report(y_test,y_pred_log_reg_model)\n",
    "\n",
    "print(\"Logistic Regression Model\")\n",
    "print(f\"Accuracy:{accuracy_log_reg * 100}\")\n",
    "print(\"classification Report:\",classification_rep_log_reg)\n",
    "print(\"Confusion Matrix:\",conf_mat_log_reg)"
   ]
  },
  {
   "cell_type": "markdown",
   "metadata": {},
   "source": [
    "SVM Approach"
   ]
  },
  {
   "cell_type": "code",
   "execution_count": null,
   "metadata": {},
   "outputs": [],
   "source": [
    "from sklearn.svm import SVC\n",
    "\n",
    "svc_model = SVC(random_state=42)\n",
    "svc_model.fit(X_train, y_train)\n",
    "y_pred_svc = svc_model.predict(X_test)"
   ]
  },
  {
   "cell_type": "markdown",
   "metadata": {},
   "source": [
    "MODEL EVALUATION"
   ]
  },
  {
   "cell_type": "code",
   "execution_count": null,
   "metadata": {},
   "outputs": [],
   "source": [
    "from sklearn.metrics import accuracy_score, classification_report, confusion_matrix\n",
    "\n",
    "Accuracy_svc = accuracy_score(y_test,y_pred_svc)\n",
    "classification_rep_svc = classification_report(y_test,y_pred_svc)\n",
    "confusion_matrix_svc = confusion_matrix(y_test,y_pred_svc)\n",
    "\n",
    "print(\"Confusion Matrix\")\n",
    "print(f\"Accuracy : {Accuracy_svc * 100}\")\n",
    "print(\"classification Report:\",classification_rep_svc)\n",
    "print(\"Confusion Matrix:\",confusion_matrix_svc)"
   ]
  },
  {
   "cell_type": "code",
   "execution_count": null,
   "metadata": {},
   "outputs": [],
   "source": []
  }
 ],
 "metadata": {
  "kernelspec": {
   "display_name": "Python 3",
   "language": "python",
   "name": "python3"
  },
  "language_info": {
   "codemirror_mode": {
    "name": "ipython",
    "version": 3
   },
   "file_extension": ".py",
   "mimetype": "text/x-python",
   "name": "python",
   "nbconvert_exporter": "python",
   "pygments_lexer": "ipython3",
   "version": "3.10.11"
  },
  "orig_nbformat": 4
 },
 "nbformat": 4,
 "nbformat_minor": 2
}
